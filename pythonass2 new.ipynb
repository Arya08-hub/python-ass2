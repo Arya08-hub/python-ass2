{
 "cells": [
  {
   "cell_type": "code",
   "execution_count": 2,
   "id": "44ec7c8a-b61e-41f0-b6e0-6fa88eae470b",
   "metadata": {},
   "outputs": [
    {
     "name": "stdout",
     "output_type": "stream",
     "text": [
      "Original List: [7, 15, 3, 22, 8]\n"
     ]
    }
   ],
   "source": [
    "numbers = [7, 15, 3, 22, 8]\n",
    "print(\"Original List:\", numbers)"
   ]
  },
  {
   "cell_type": "code",
   "execution_count": 4,
   "id": "3aeed0b4-cd07-480c-9295-5e3c74f1a234",
   "metadata": {},
   "outputs": [
    {
     "name": "stdout",
     "output_type": "stream",
     "text": [
      "Updated List: [7, 15, 3, 22, 8, 10, 12, 20]\n"
     ]
    }
   ],
   "source": [
    "numbers.extend([10, 12, 20])\n",
    "print(\"Updated List:\", numbers)"
   ]
  },
  {
   "cell_type": "code",
   "execution_count": 6,
   "id": "4166f55f-c41d-4db2-9ea0-c1f787bccbf8",
   "metadata": {},
   "outputs": [
    {
     "name": "stdout",
     "output_type": "stream",
     "text": [
      "7\n",
      "15\n",
      "3\n",
      "22\n",
      "8\n",
      "10\n",
      "12\n",
      "20\n"
     ]
    }
   ],
   "source": [
    "for num in numbers:\n",
    "    print(num)"
   ]
  },
  {
   "cell_type": "code",
   "execution_count": 8,
   "id": "77997cde-d34e-4fe3-a8f5-9aa47e16b4a0",
   "metadata": {},
   "outputs": [
    {
     "name": "stdout",
     "output_type": "stream",
     "text": [
      "Dictionary: {'name': 'John', 'age': 25, 'address': 'New York'}\n"
     ]
    }
   ],
   "source": [
    "person = {'name': 'John', 'age': 25, 'address': 'New York'}\n",
    "print(\"Dictionary:\", person)"
   ]
  },
  {
   "cell_type": "code",
   "execution_count": 10,
   "id": "250022d2-cd37-4592-a848-ebd56f1be4ef",
   "metadata": {},
   "outputs": [
    {
     "name": "stdout",
     "output_type": "stream",
     "text": [
      "Updated Dictionary: {'name': 'John', 'age': 25, 'address': 'New York', 'phone': '1234567890'}\n"
     ]
    }
   ],
   "source": [
    "person['phone'] = '1234567890'\n",
    "print(\"Updated Dictionary:\", person)"
   ]
  },
  {
   "cell_type": "code",
   "execution_count": 14,
   "id": "a6a3c1f8-3cb5-4227-8e6d-f328fc331adc",
   "metadata": {},
   "outputs": [
    {
     "name": "stdout",
     "output_type": "stream",
     "text": [
      "Original Set: {1, 2, 3, 4, 5}\n"
     ]
    }
   ],
   "source": [
    "my_set = {1, 2, 3, 4, 5}\n",
    "print(\"Original Set:\", my_set)"
   ]
  },
  {
   "cell_type": "code",
   "execution_count": 16,
   "id": "f246b4af-2a3a-4690-9023-4097b16f6f35",
   "metadata": {},
   "outputs": [
    {
     "name": "stdout",
     "output_type": "stream",
     "text": [
      "Set after adding 6: {1, 2, 3, 4, 5, 6}\n"
     ]
    }
   ],
   "source": [
    "my_set.add(6)\n",
    "print(\"Set after adding 6:\", my_set)"
   ]
  },
  {
   "cell_type": "code",
   "execution_count": 18,
   "id": "376c23b0-97c1-42e0-a1a6-b2522189595b",
   "metadata": {},
   "outputs": [
    {
     "name": "stdout",
     "output_type": "stream",
     "text": [
      "Set after removing 3: {1, 2, 4, 5, 6}\n"
     ]
    }
   ],
   "source": [
    "my_set.discard(3)\n",
    "print(\"Set after removing 3:\", my_set)"
   ]
  },
  {
   "cell_type": "code",
   "execution_count": 20,
   "id": "83bda85d-13d6-4011-b45a-daa3a1fb5da7",
   "metadata": {},
   "outputs": [
    {
     "name": "stdout",
     "output_type": "stream",
     "text": [
      "Tuple: (1, 2, 3, 4)\n"
     ]
    }
   ],
   "source": [
    "my_tuple = (1, 2, 3, 4)\n",
    "print(\"Tuple:\", my_tuple)"
   ]
  },
  {
   "cell_type": "code",
   "execution_count": 22,
   "id": "6c70283d-fd70-4221-9178-2c85f60f10e7",
   "metadata": {},
   "outputs": [
    {
     "name": "stdout",
     "output_type": "stream",
     "text": [
      "Length of Tuple: 4\n"
     ]
    }
   ],
   "source": [
    "print(\"Length of Tuple:\", len(my_tuple))"
   ]
  },
  {
   "cell_type": "code",
   "execution_count": null,
   "id": "beb5c370-9392-452e-8df3-8475c6eb7865",
   "metadata": {},
   "outputs": [],
   "source": []
  }
 ],
 "metadata": {
  "kernelspec": {
   "display_name": "anaconda-panel-2023.05-py310",
   "language": "python",
   "name": "conda-env-anaconda-panel-2023.05-py310-py"
  },
  "language_info": {
   "codemirror_mode": {
    "name": "ipython",
    "version": 3
   },
   "file_extension": ".py",
   "mimetype": "text/x-python",
   "name": "python",
   "nbconvert_exporter": "python",
   "pygments_lexer": "ipython3",
   "version": "3.11.5"
  }
 },
 "nbformat": 4,
 "nbformat_minor": 5
}
